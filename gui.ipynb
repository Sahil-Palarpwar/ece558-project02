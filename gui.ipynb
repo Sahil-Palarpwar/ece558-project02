{
 "cells": [
  {
   "cell_type": "code",
   "execution_count": null,
   "id": "7c5e8615",
   "metadata": {},
   "outputs": [],
   "source": [
    "import cv2\n",
    "import numpy as np "
   ]
  },
  {
   "cell_type": "code",
   "execution_count": null,
   "id": "1cc6ceb3",
   "metadata": {},
   "outputs": [],
   "source": [
    "image_name = input(\"name of image: \")"
   ]
  },
  {
   "cell_type": "code",
   "execution_count": null,
   "id": "b50eb9db",
   "metadata": {},
   "outputs": [],
   "source": [
    "def gui(image_name):\n",
    "    image = cv2.imread('Original_Images//scream.png')\n",
    "\n",
    "    while True:\n",
    "    #select ROI function\n",
    "        roi = cv2.selectROI(image)\n",
    "        #print rectangle points of selected roi\n",
    "        print(roi)\n",
    "        if cv2.waitKey(0) == 27:\n",
    "            break\n",
    "\n",
    "    cv2.destroyAllWindows()\n",
    "\n",
    "    #Crop selected roi from raw image\n",
    "    roi_cropped = image[int(roi[1]):int(roi[1]+roi[3]), int(roi[0]):int(roi[0]+roi[2])]\n",
    "\n",
    "    pnt_0 =roi[0]\n",
    "    pnt_3 = roi[3]\n",
    "\n",
    "    mask = np.zeros(image.shape, dtype='uint8')\n",
    "    mask[int(roi[1]):int(roi[1]+roi[3]), int(roi[0]):int(roi[0]+roi[2])] = 255\n",
    "\n",
    "    flipped_mask = 255 - mask\n",
    "\n",
    "    # Mask input image with binary mask\n",
    "    #Flipped mask image with binary mask\n",
    "\n",
    "    mask_result = cv2.bitwise_and(image, mask)\n",
    "    flipped_mask_result = cv2.bitwise_and(image, flipped_mask)\n",
    "    \n",
    "    return roi_cropped, mask, flipped_mask, mask_result, flipped_mask_result"
   ]
  },
  {
   "cell_type": "code",
   "execution_count": null,
   "id": "2797a6e2",
   "metadata": {},
   "outputs": [],
   "source": [
    "roi_cropped, mask, flipped_mask, mask_result, flipped_mask_result  = gui(image_name)"
   ]
  },
  {
   "cell_type": "code",
   "execution_count": null,
   "id": "3d8a13b1",
   "metadata": {},
   "outputs": [],
   "source": [
    "cv2.imwrite(\"gui_images//cropped_{}.png\".format(image_name),roi_cropped)\n",
    "cv2.imwrite(\"gui_images//mask_for_{}.png\".format(image_name),mask)\n",
    "cv2.imwrite(\"gui_images//flipped_masked_for_{}.png\".format(image_name),flipped_mask)\n",
    "cv2.imwrite(\"gui_images//masked_{}.png\".format(image_name),mask_result)\n",
    "cv2.imwrite(\"gui_images//flipped_masked_{}.png\".format(image_name),flipped_mask_result)"
   ]
  },
  {
   "cell_type": "code",
   "execution_count": null,
   "id": "5bac2147",
   "metadata": {},
   "outputs": [],
   "source": []
  }
 ],
 "metadata": {
  "kernelspec": {
   "display_name": "Python 3",
   "language": "python",
   "name": "python3"
  },
  "language_info": {
   "codemirror_mode": {
    "name": "ipython",
    "version": 3
   },
   "file_extension": ".py",
   "mimetype": "text/x-python",
   "name": "python",
   "nbconvert_exporter": "python",
   "pygments_lexer": "ipython3",
   "version": "3.9.6"
  }
 },
 "nbformat": 4,
 "nbformat_minor": 5
}
